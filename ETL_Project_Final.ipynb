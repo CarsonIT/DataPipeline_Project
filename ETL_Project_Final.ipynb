{
 "cells": [
  {
   "cell_type": "code",
   "execution_count": 1,
   "id": "6378d34d",
   "metadata": {},
   "outputs": [],
   "source": [
    "import findspark\n",
    "findspark.init() "
   ]
  },
  {
   "cell_type": "code",
   "execution_count": 2,
   "id": "b4c53623",
   "metadata": {},
   "outputs": [],
   "source": [
    "import os\n",
    "import time\n",
    "import datetime\n",
    "import pyspark.sql.functions as sf\n",
    "from uuid import *\n",
    "from pyspark.sql import SparkSession\n",
    "from pyspark.sql import SQLContext\n",
    "from pyspark.sql.functions import when\n",
    "from pyspark.sql.functions import col\n",
    "from pyspark.sql.types import *\n",
    "from pyspark.sql.functions import lit\n",
    "from pyspark import SparkConf, SparkContext\n",
    "from uuid import * \n",
    "from uuid import UUID\n",
    "import time_uuid \n",
    "from pyspark.sql import Row\n",
    "from pyspark.sql.functions import udf\n",
    "from pyspark.sql.functions import monotonically_increasing_id\n",
    "from pyspark.sql.window import Window as W"
   ]
  },
  {
   "cell_type": "code",
   "execution_count": 3,
   "id": "78424d02",
   "metadata": {},
   "outputs": [],
   "source": [
    "spark = SparkSession.builder.config(\"spark.jars.packages\",'com.datastax.spark:spark-cassandra-connector_2.12:3.1.0').getOrCreate()"
   ]
  },
  {
   "cell_type": "code",
   "execution_count": 4,
   "id": "16675f5d",
   "metadata": {},
   "outputs": [],
   "source": [
    "#Read data from Cassandra\n",
    "df = spark.read.format(\"org.apache.spark.sql.cassandra\").options(keyspace=\"keyspace_de\",table=\"tracking\").load()"
   ]
  },
  {
   "cell_type": "code",
   "execution_count": 5,
   "id": "35cf9ca7",
   "metadata": {},
   "outputs": [
    {
     "name": "stdout",
     "output_type": "stream",
     "text": [
      "+-------------------+\n",
      "|       custom_track|\n",
      "+-------------------+\n",
      "|         conversion|\n",
      "|               null|\n",
      "|interview_scheduled|\n",
      "|              click|\n",
      "|        unqualified|\n",
      "|              alive|\n",
      "|           redirect|\n",
      "|          qualified|\n",
      "|         superpixel|\n",
      "+-------------------+\n",
      "\n"
     ]
    }
   ],
   "source": [
    "df.select('custom_track').distinct().show()"
   ]
  },
  {
   "cell_type": "code",
   "execution_count": 6,
   "id": "4e20e0dc",
   "metadata": {},
   "outputs": [],
   "source": [
    "df = df.select('create_time','bid','campaign_id','custom_track','group_id','job_id','publisher_id')"
   ]
  },
  {
   "cell_type": "code",
   "execution_count": 7,
   "id": "782ecd59",
   "metadata": {},
   "outputs": [],
   "source": [
    "def process_timeuuid(df):\n",
    "    spark_time = df.select('create_time').collect()\n",
    "    normal_timestamp = []\n",
    "    for i in range(len(spark_time)):\n",
    "        normal_timestamp.append(str(time_uuid.TimeUUID(bytes=UUID(spark_time[i][0]).bytes).get_datetime().strftime('%Y-%m-%d %H:%M:%S')))\n",
    "    normal_timestamp\n",
    "    spark_timeuuid = []\n",
    "    for i in range(len(spark_time)):\n",
    "        spark_timeuuid.append(spark_time[i][0])\n",
    "    time_data = spark.createDataFrame(zip(spark_timeuuid,normal_timestamp),['create_time','ts'])\n",
    "    result = df.join(time_data,df.create_time==time_data.create_time,'inner').drop(df.create_time)\n",
    "    result = result.select('create_time','ts','bid','campaign_id','custom_track','group_id','job_id','publisher_id')\n",
    "    return result"
   ]
  },
  {
   "cell_type": "code",
   "execution_count": 8,
   "id": "6b6c8339",
   "metadata": {},
   "outputs": [],
   "source": [
    "processed_df = process_timeuuid(df)"
   ]
  },
  {
   "cell_type": "code",
   "execution_count": 9,
   "id": "893c6fae",
   "metadata": {},
   "outputs": [
    {
     "name": "stdout",
     "output_type": "stream",
     "text": [
      "+--------------------+-------------------+----+-----------+------------+--------+------+------------+\n",
      "|         create_time|                 ts| bid|campaign_id|custom_track|group_id|job_id|publisher_id|\n",
      "+--------------------+-------------------+----+-----------+------------+--------+------+------------+\n",
      "|756bdd00-0d63-11e...|2022-07-27 04:20:34|   0|        222|        null|    null|  1532|           1|\n",
      "|3fd449c0-0b5b-11e...|2022-07-24 14:16:45|   1|         48|        null|      34|   188|           1|\n",
      "|3f796600-0bff-11e...|2022-07-25 09:50:42|   0|        222|        null|    null|  1533|           1|\n",
      "|3cdd1b90-02d0-11e...|2022-07-13 17:21:31|null|       null|        null|    null|  null|        null|\n",
      "|6140b730-0668-11e...|2022-07-18 07:08:09|null|       null|       click|    null|  null|        null|\n",
      "|a0b45bd0-0c8d-11e...|2022-07-26 02:49:54|null|       null|       alive|    null|  null|        null|\n",
      "|e1a01b60-0847-11e...|2022-07-20 16:20:33|null|       null|       click|    null|  null|        null|\n",
      "|f7963ac0-0d61-11e...|2022-07-27 04:09:53|   0|        151|       click|      28|  1103|           1|\n",
      "|da9e7ab0-0cb0-11e...|2022-07-26 07:02:03|   0|        222|        null|    null|  1531|           1|\n",
      "|7c3f2e30-0209-11e...|2022-07-12 17:38:48|null|       null|  conversion|    null|  null|        null|\n",
      "|9e13bdb0-05a5-11e...|2022-07-17 07:53:59|null|       null|        null|    null|  null|        null|\n",
      "|ea00e570-0b06-11e...|2022-07-24 04:13:04|null|       null|        null|    null|  null|        null|\n",
      "|ef7b4f60-02b7-11e...|2022-07-13 14:27:33|null|       null|        null|    null|  null|        null|\n",
      "|3eec0650-00cb-11e...|2022-07-11 03:40:45|null|       null|        null|    null|  null|        null|\n",
      "|4c035500-07e7-11e...|2022-07-20 04:49:11|null|       null|        null|    null|  null|        null|\n",
      "|5d068030-0b5b-11e...|2022-07-24 14:17:34|   1|         48|       click|      34|   188|           1|\n",
      "|bb273ed0-0cc7-11e...|2022-07-26 09:45:49|null|       null|        null|    null|  null|        null|\n",
      "|257f58a0-0a69-11e...|2022-07-23 09:23:43|null|       null|       click|    null|  null|        null|\n",
      "|d6bf4b00-089a-11e...|2022-07-21 02:14:23|null|       null|        null|    null|  null|        null|\n",
      "|b9939b50-0357-11e...|2022-07-14 09:31:22|null|       null|       click|    null|  null|        null|\n",
      "+--------------------+-------------------+----+-----------+------------+--------+------+------------+\n",
      "only showing top 20 rows\n",
      "\n"
     ]
    }
   ],
   "source": [
    "processed_df.show()"
   ]
  },
  {
   "cell_type": "code",
   "execution_count": 10,
   "id": "8e857502",
   "metadata": {},
   "outputs": [],
   "source": [
    "def calculating_clicks(processed_df):\n",
    "    clicks_data = processed_df.filter(processed_df.custom_track == 'click')\n",
    "    clicks_data = clicks_data.na.fill({'bid': 0})\n",
    "    clicks_data = clicks_data.na.fill({'publisher_id': 0})\n",
    "    clicks_data = clicks_data.na.fill({'job_id': 0})\n",
    "    clicks_data = clicks_data.na.fill({'group_id': 0})\n",
    "    clicks_data = clicks_data.na.fill({'campaign_id': 0})\n",
    "    clicks_data.createOrReplaceTempView('clicks_data')\n",
    "    clicks_output = spark.sql(\"\"\" with cte1 as (select create_time,bid,job_id,group_id,campaign_id,publisher_id,date(ts) as dates,hour(ts) as hours from clicks_data) \n",
    "    select job_id,group_id,campaign_id,publisher_id,dates,hours,sum(bid) as spend_hour, round(avg(bid),2) as bid_set,count(create_time) as clicks \n",
    "    from cte1 \n",
    "    group by publisher_id,job_id,group_id,campaign_id,dates,hours\"\"\")\n",
    "    return clicks_output "
   ]
  },
  {
   "cell_type": "code",
   "execution_count": 11,
   "id": "8e45a700",
   "metadata": {},
   "outputs": [],
   "source": [
    "def calculating_conversion(processed_df):\n",
    "    conversion_data = processed_df.filter(processed_df.custom_track == 'conversion')\n",
    "    conversion_data = conversion_data.na.fill({'bid': 0})\n",
    "    conversion_data = conversion_data.na.fill({'publisher_id': 0})\n",
    "    conversion_data = conversion_data.na.fill({'job_id': 0})\n",
    "    conversion_data = conversion_data.na.fill({'group_id': 0})\n",
    "    conversion_data = conversion_data.na.fill({'campaign_id': 0})\n",
    "    conversion_data.createOrReplaceTempView('conversion_data')\n",
    "    conversion_output = spark.sql(\"\"\" with cte1 as (select create_time,bid,job_id,group_id,campaign_id,publisher_id,date(ts) as dates,hour(ts) as hours from conversion_data) \n",
    "    select job_id,group_id,campaign_id,publisher_id,dates,hours,sum(bid) as spend_hour, round(avg(bid),2) as bid_set,count(create_time) as conversion \n",
    "    from cte1 \n",
    "    group by publisher_id,job_id,group_id,campaign_id,dates,hours\"\"\")\n",
    "    return conversion_output "
   ]
  },
  {
   "cell_type": "code",
   "execution_count": 12,
   "id": "b6a221a1",
   "metadata": {},
   "outputs": [],
   "source": [
    "def calculating_qualified(processed_df):\n",
    "    qualified_data = processed_df.filter(processed_df.custom_track == 'qualified')\n",
    "    qualified_data = qualified_data.na.fill({'bid': 0})\n",
    "    qualified_data = qualified_data.na.fill({'publisher_id': 0})\n",
    "    qualified_data = qualified_data.na.fill({'job_id': 0})\n",
    "    qualified_data = qualified_data.na.fill({'group_id': 0})\n",
    "    qualified_data = qualified_data.na.fill({'campaign_id': 0})\n",
    "    qualified_data.createOrReplaceTempView('qualified_data')\n",
    "    qualified_output = spark.sql(\"\"\" with cte1 as (select create_time,bid,job_id,group_id,campaign_id,publisher_id,date(ts) as dates,hour(ts) as hours from qualified_data) \n",
    "    select job_id,group_id,campaign_id,publisher_id,dates,hours,sum(bid) as spend_hour, round(avg(bid),2) as bid_set,count(create_time) as qualified_application \n",
    "    from cte1 \n",
    "    group by publisher_id,job_id,group_id,campaign_id,dates,hours\"\"\")\n",
    "    return qualified_output "
   ]
  },
  {
   "cell_type": "code",
   "execution_count": 13,
   "id": "35cb394a",
   "metadata": {},
   "outputs": [],
   "source": [
    "def calculating_unqualified(processed_df):\n",
    "    unqualified_data = processed_df.filter(processed_df.custom_track == 'qualified')\n",
    "    unqualified_data = unqualified_data.na.fill({'bid': 0})\n",
    "    unqualified_data = unqualified_data.na.fill({'publisher_id': 0})\n",
    "    unqualified_data = unqualified_data.na.fill({'job_id': 0})\n",
    "    unqualified_data = unqualified_data.na.fill({'group_id': 0})\n",
    "    unqualified_data = unqualified_data.na.fill({'campaign_id': 0})\n",
    "    unqualified_data.createOrReplaceTempView('unqualified_data')\n",
    "    unqualified_output = spark.sql(\"\"\" with cte1 as (select create_time,bid,job_id,group_id,campaign_id,publisher_id,date(ts) as dates,hour(ts) as hours from unqualified_data) \n",
    "    select job_id,group_id,campaign_id,publisher_id,dates,hours,sum(bid) as spend_hour, round(avg(bid),2) as bid_set,count(create_time) as disqualified_application \n",
    "    from cte1 \n",
    "    group by publisher_id,job_id,group_id,campaign_id,dates,hours\"\"\")\n",
    "    return unqualified_output "
   ]
  },
  {
   "cell_type": "code",
   "execution_count": 14,
   "id": "696b9a4c",
   "metadata": {},
   "outputs": [],
   "source": [
    "def processing_cassandra_output(processed_df):\n",
    "    clicks_output = calculating_clicks(processed_df)\n",
    "    conversion_output = calculating_conversion(processed_df)\n",
    "    qualified_output = calculating_qualified(processed_df)\n",
    "    unqualified_output = calculating_unqualified(processed_df)\n",
    "    cassandra_output = clicks_output.join(conversion_output,['job_id', 'group_id', 'campaign_id', 'publisher_id', 'dates', 'hours'],'full').join(qualified_output,['job_id', 'group_id', 'campaign_id', 'publisher_id', 'dates', 'hours'],'full').join(unqualified_output,['job_id', 'group_id', 'campaign_id', 'publisher_id', 'dates', 'hours'],'full').drop(conversion_output.job_id).drop(conversion_output.group_id).drop(conversion_output.campaign_id).drop(conversion_output.publisher_id)\\\n",
    "    .drop(conversion_output.dates).drop(conversion_output.hours).drop(conversion_output.spend_hour).drop(conversion_output.bid_set).drop(qualified_output.bid_set).drop(qualified_output.job_id).drop(qualified_output.group_id).drop(qualified_output.campaign_id).drop(qualified_output.publisher_id).drop(qualified_output.dates).drop(qualified_output.hours).drop(qualified_output.spend_hour).drop(qualified_output.bid_set).drop(unqualified_output.job_id).drop(unqualified_output.group_id).drop(unqualified_output.campaign_id).drop(unqualified_output.publisher_id).drop(unqualified_output.dates).drop(unqualified_output.hours).drop(unqualified_output.spend_hour).drop(unqualified_output.bid_set)\n",
    "    return cassandra_output\n"
   ]
  },
  {
   "cell_type": "code",
   "execution_count": 15,
   "id": "37f283e7",
   "metadata": {},
   "outputs": [],
   "source": [
    "cassandra_output = processing_cassandra_output(processed_df)"
   ]
  },
  {
   "cell_type": "code",
   "execution_count": 16,
   "id": "c1195f8f",
   "metadata": {},
   "outputs": [
    {
     "name": "stdout",
     "output_type": "stream",
     "text": [
      "+------+--------+-----------+------------+----------+-----+----------+-------+------+----------+---------------------+------------------------+\n",
      "|job_id|group_id|campaign_id|publisher_id|     dates|hours|spend_hour|bid_set|clicks|conversion|qualified_application|disqualified_application|\n",
      "+------+--------+-----------+------------+----------+-----+----------+-------+------+----------+---------------------+------------------------+\n",
      "|     0|       0|          0|           0|2022-07-06|    9|         0|    0.0|     1|      null|                 null|                    null|\n",
      "|     0|       0|          0|           0|2022-07-06|   15|      null|   null|  null|         2|                 null|                    null|\n",
      "|     0|       0|          0|           0|2022-07-07|    2|         0|    0.0|     3|      null|                 null|                    null|\n",
      "|     0|       0|          0|           0|2022-07-07|    3|         0|    0.0|     2|      null|                 null|                    null|\n",
      "|     0|       0|          0|           0|2022-07-08|    2|         0|    0.0|    12|      null|                 null|                    null|\n",
      "|     0|       0|          0|           0|2022-07-08|    4|         0|    0.0|     3|      null|                 null|                    null|\n",
      "|     0|       0|          0|           0|2022-07-08|    6|         0|    0.0|     3|      null|                 null|                    null|\n",
      "|     0|       0|          0|           0|2022-07-08|    8|         0|    0.0|     1|      null|                 null|                    null|\n",
      "|     0|       0|          0|           0|2022-07-08|   10|         0|    0.0|    32|      null|                 null|                    null|\n",
      "|     0|       0|          0|           0|2022-07-08|   13|      null|   null|  null|         4|                    2|                       2|\n",
      "|     0|       0|          0|           0|2022-07-09|    7|         0|    0.0|     4|      null|                 null|                    null|\n",
      "|     0|       0|          0|           0|2022-07-09|   15|         0|    0.0|     5|         3|                 null|                    null|\n",
      "|     0|       0|          0|           0|2022-07-10|    1|         0|    0.0|     1|      null|                 null|                    null|\n",
      "|     0|       0|          0|           0|2022-07-10|    8|      null|   null|  null|         3|                 null|                    null|\n",
      "|     0|       0|          0|           0|2022-07-10|   16|         0|    0.0|    30|      null|                 null|                    null|\n",
      "|     0|       0|          0|           0|2022-07-10|   17|         0|    0.0|   166|      null|                 null|                    null|\n",
      "|     0|       0|          0|           0|2022-07-10|   23|         0|    0.0|     1|      null|                 null|                    null|\n",
      "|     0|       0|          0|           0|2022-07-11|    0|      null|   null|  null|         1|                 null|                    null|\n",
      "|     0|       0|          0|           0|2022-07-11|    1|         0|    0.0|     4|      null|                 null|                    null|\n",
      "|     0|       0|          0|           0|2022-07-11|    2|         0|    0.0|     5|      null|                 null|                    null|\n",
      "+------+--------+-----------+------------+----------+-----+----------+-------+------+----------+---------------------+------------------------+\n",
      "only showing top 20 rows\n",
      "\n"
     ]
    }
   ],
   "source": [
    "cassandra_output.show()"
   ]
  },
  {
   "cell_type": "code",
   "execution_count": 17,
   "id": "07d7e447",
   "metadata": {},
   "outputs": [
    {
     "name": "stdout",
     "output_type": "stream",
     "text": [
      "root\n",
      " |-- job_id: integer (nullable = true)\n",
      " |-- group_id: integer (nullable = true)\n",
      " |-- campaign_id: integer (nullable = true)\n",
      " |-- publisher_id: integer (nullable = true)\n",
      " |-- dates: date (nullable = true)\n",
      " |-- hours: integer (nullable = true)\n",
      " |-- spend_hour: long (nullable = true)\n",
      " |-- bid_set: double (nullable = true)\n",
      " |-- clicks: long (nullable = true)\n",
      " |-- conversion: long (nullable = true)\n",
      " |-- qualified_application: long (nullable = true)\n",
      " |-- disqualified_application: long (nullable = true)\n",
      "\n"
     ]
    }
   ],
   "source": [
    "cassandra_output.printSchema()"
   ]
  },
  {
   "cell_type": "code",
   "execution_count": 18,
   "id": "111ffd76",
   "metadata": {},
   "outputs": [],
   "source": [
    "def processing_remain_column(cassandra_output):\n",
    "    cassandra_output = cassandra_output.withColumn('impressions',lit(0))\n",
    "    cassandra_output = cassandra_output.withColumn('sources',lit('Cassandra'))\n",
    "    #Read data from MySQL \n",
    "    host = 'localhost'\n",
    "    port = '3306'\n",
    "    db_name = 'Data_Warehouse'\n",
    "    user = 'root'\n",
    "    password = '1'\n",
    "    url = 'jdbc:mysql://' + host + ':' + port + '/' + db_name\n",
    "    driver = \"com.mysql.cj.jdbc.Driver\"\n",
    "    sql = \"\"\"(select * from company) a\"\"\"\n",
    "    mysql_df_company = spark.read.format('jdbc').options(url=url, driver=driver, dbtable=sql, user=user, password=password).load()\n",
    "    cassandra_output_offcial = cassandra_output.join(mysql_df_company,cassandra_output.publisher_id==mysql_df_company.publisher_id,'inner').drop(mysql_df_company.publisher_id)\n",
    "    cassandra_output_offcial = cassandra_output_offcial.select('job_id','dates','hours','disqualified_application','qualified_application','conversion','id','group_id','campaign_id','publisher_id','bid_set','clicks','impressions','spend_hour','sources')\n",
    "    cassandra_output_offcial = cassandra_output_offcial.na.fill({'disqualified_application': 0})\n",
    "    cassandra_output_offcial = cassandra_output_offcial.na.fill({'qualified_application': 0})\n",
    "    cassandra_output_offcial = cassandra_output_offcial.na.fill({'conversion': 0})\n",
    "    cassandra_output_offcial = cassandra_output_offcial.withColumnRenamed(\"id\",\"company_id\")\n",
    "    cassandra_output_offcial = cassandra_output_offcial.withColumn('id',lit(0))\n",
    "    return cassandra_output_offcial\n"
   ]
  },
  {
   "cell_type": "code",
   "execution_count": 19,
   "id": "5005e3fc",
   "metadata": {},
   "outputs": [],
   "source": [
    "cassandra_output_offcial = processing_remain_column(cassandra_output)"
   ]
  },
  {
   "cell_type": "code",
   "execution_count": 20,
   "id": "89c17e75",
   "metadata": {},
   "outputs": [
    {
     "name": "stdout",
     "output_type": "stream",
     "text": [
      "+------+----------+-----+------------------------+---------------------+----------+----------+--------+-----------+------------+-------+------+-----------+----------+---------+---+\n",
      "|job_id|     dates|hours|disqualified_application|qualified_application|conversion|company_id|group_id|campaign_id|publisher_id|bid_set|clicks|impressions|spend_hour|  sources| id|\n",
      "+------+----------+-----+------------------------+---------------------+----------+----------+--------+-----------+------------+-------+------+-----------+----------+---------+---+\n",
      "|  1534|2022-07-27|    4|                       0|                    0|         0|        59|       0|        222|           1|    0.0|    11|          0|         0|Cassandra|  0|\n",
      "|  1534|2022-07-26|    7|                       0|                    0|         0|        59|       0|        222|           1|    0.0|     5|          0|         0|Cassandra|  0|\n",
      "|  1534|2022-07-26|    3|                       0|                    0|         0|        59|       0|        222|           1|    0.0|    16|          0|         0|Cassandra|  0|\n",
      "|  1534|2022-07-25|    9|                       0|                    0|         0|        59|       0|        222|           1|    0.0|    17|          0|         0|Cassandra|  0|\n",
      "|  1533|2022-07-27|    4|                       0|                    0|         0|        59|       0|        222|           1|    0.0|    11|          0|         0|Cassandra|  0|\n",
      "|  1533|2022-07-26|    7|                       0|                    0|         0|        59|       0|        222|           1|    0.0|    12|          0|         0|Cassandra|  0|\n",
      "|  1533|2022-07-26|    3|                       0|                    0|         0|        59|       0|        222|           1|    0.0|    11|          0|         0|Cassandra|  0|\n",
      "|  1533|2022-07-25|    9|                       0|                    0|         0|        59|       0|        222|           1|    0.0|    19|          0|         0|Cassandra|  0|\n",
      "|  1532|2022-07-27|    4|                       0|                    0|         0|        59|       0|        222|           1|    0.0|    11|          0|         0|Cassandra|  0|\n",
      "|  1532|2022-07-26|    7|                       0|                    0|         0|        59|       0|        222|           1|    0.0|    13|          0|         0|Cassandra|  0|\n",
      "|  1532|2022-07-26|    3|                       0|                    0|         0|        59|       0|        222|           1|    0.0|     6|          0|         0|Cassandra|  0|\n",
      "|  1532|2022-07-26|    2|                       0|                    0|         0|        59|       0|        222|           1|    0.0|     1|          0|         0|Cassandra|  0|\n",
      "|  1532|2022-07-25|    9|                       0|                    0|         0|        59|       0|        222|           1|    0.0|    17|          0|         0|Cassandra|  0|\n",
      "|  1531|2022-07-27|    4|                       0|                    0|         0|        59|       0|        222|           1|    0.0|    15|          0|         0|Cassandra|  0|\n",
      "|  1531|2022-07-26|    7|                       0|                    0|         0|        59|       0|        222|           1|    0.0|    14|          0|         0|Cassandra|  0|\n",
      "|  1531|2022-07-26|    2|                       0|                    0|         0|        59|       0|        222|           1|    0.0|    13|          0|         0|Cassandra|  0|\n",
      "|  1531|2022-07-25|    9|                       0|                    0|         0|        59|       0|        222|           1|    0.0|    23|          0|         0|Cassandra|  0|\n",
      "|  1530|2022-07-27|    4|                       0|                    0|         0|        59|       0|        222|           1|    0.0|    10|          0|         0|Cassandra|  0|\n",
      "|  1530|2022-07-26|    7|                       0|                    0|         0|        59|       0|        222|           1|    0.0|    10|          0|         0|Cassandra|  0|\n",
      "|  1530|2022-07-26|    2|                       0|                    0|         0|        59|       0|        222|           1|    0.0|    11|          0|         0|Cassandra|  0|\n",
      "+------+----------+-----+------------------------+---------------------+----------+----------+--------+-----------+------------+-------+------+-----------+----------+---------+---+\n",
      "only showing top 20 rows\n",
      "\n"
     ]
    }
   ],
   "source": [
    "cassandra_output_offcial.show()"
   ]
  },
  {
   "cell_type": "code",
   "execution_count": 21,
   "id": "d0b6b998",
   "metadata": {},
   "outputs": [
    {
     "data": {
      "text/plain": [
       "62"
      ]
     },
     "execution_count": 21,
     "metadata": {},
     "output_type": "execute_result"
    }
   ],
   "source": [
    "cassandra_output_offcial.count()"
   ]
  },
  {
   "cell_type": "code",
   "execution_count": 74,
   "id": "1d6b33da",
   "metadata": {},
   "outputs": [],
   "source": [
    "def load_to_datawarehouse(cassandra_output_offcial):\n",
    "    url = 'jdbc:mysql://' + 'localhost' + ':' + '3306' + '/' + 'Data_Warehouse'\n",
    "    driver = \"com.mysql.cj.jdbc.Driver\"\n",
    "    user = 'root'\n",
    "    password = '1'\n",
    "    cassandra_output_offcial.write.format('jdbc').option('url',url).option('driver',driver).option('dbtable','events').option('user',user).option('password',password).mode('append').save()"
   ]
  },
  {
   "cell_type": "code",
   "execution_count": null,
   "id": "7d7ed78c",
   "metadata": {},
   "outputs": [],
   "source": [
    "load_to_DW = load_to_datawarehouse(cassandra_output_offcial)"
   ]
  }
 ],
 "metadata": {
  "kernelspec": {
   "display_name": "Python 3 (ipykernel)",
   "language": "python",
   "name": "python3"
  },
  "language_info": {
   "codemirror_mode": {
    "name": "ipython",
    "version": 3
   },
   "file_extension": ".py",
   "mimetype": "text/x-python",
   "name": "python",
   "nbconvert_exporter": "python",
   "pygments_lexer": "ipython3",
   "version": "3.9.12"
  }
 },
 "nbformat": 4,
 "nbformat_minor": 5
}
