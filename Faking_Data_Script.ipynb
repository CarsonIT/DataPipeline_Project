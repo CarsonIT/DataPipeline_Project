{
 "cells": [
  {
   "cell_type": "code",
   "execution_count": 3,
   "metadata": {},
   "outputs": [],
   "source": [
    "from cassandra.cluster import Cluster\n",
    "from cassandra.cqlengine import columns\n",
    "from cassandra.cqlengine.models import  Model\n",
    "from cassandra.cqlengine.management import sync_table\n",
    "from cassandra.cqlengine import connection\n",
    "from cassandra.query import dict_factory\n",
    "from datetime import datetime, timedelta\n",
    "import time\n",
    "import cassandra\n",
    "import random\n",
    "import uuid\n",
    "import math\n",
    "import pandas as pd\n",
    "pd.set_option(\"display.max_rows\", None, \"display.max_columns\", None)\n",
    "import datetime\n",
    "from sqlalchemy import create_engine\n",
    "import pandas as pd\n",
    "import numpy as np\n",
    "import mysql.connector"
   ]
  },
  {
   "cell_type": "code",
   "execution_count": 4,
   "metadata": {},
   "outputs": [],
   "source": [
    "def get_data_from_jobs(user,password,host,database):\n",
    "    cnx = mysql.connector.connect(user=user, password=password,\n",
    "                                      host=host,\n",
    "                                  database=database)\n",
    "    query = \"\"\"select id as job_id,campaign_id , group_id , company_id from job\"\"\"\n",
    "    mysql_data = pd.read_sql(query, cnx)\n",
    "    return mysql_data\n",
    "    "
   ]
  },
  {
   "cell_type": "code",
   "execution_count": 5,
   "metadata": {},
   "outputs": [],
   "source": [
    "def get_data_publisher(user,password,host,database):\n",
    "    cnx = mysql.connector.connect(user=user, password=password,\n",
    "                                      host=host,\n",
    "                                  database=database)\n",
    "    query = \"\"\"select distinct(id) as publisher_id  from master_publisher \"\"\"\n",
    "    mysql_data = pd.read_sql(query, cnx)\n",
    "    return mysql_data"
   ]
  },
  {
   "cell_type": "code",
   "execution_count": 6,
   "metadata": {},
   "outputs": [],
   "source": [
    "def generating_dummy_data(n_records,session,user,password,host,database):\n",
    "    publisher = get_data_publisher(user=user,password=password,host=host,database=db_name)\n",
    "    publisher = publisher['publisher_id'].to_list()\n",
    "    jobs_data = get_data_from_jobs(user=user,password=password,host=host,database=db_name)\n",
    "    job_list = jobs_data['job_id'].to_list()\n",
    "    campaign_list = jobs_data['campaign_id'].to_list()\n",
    "    company_list = jobs_data['company_id'].to_list()\n",
    "    group_list = jobs_data[jobs_data['group_id'].notnull()]['group_id'].astype(int).to_list()\n",
    "    i = 0\n",
    "    while i < n_records:\n",
    "        job_id = random.choice(job_list)\n",
    "        campaign_id = random.choice(campaign_list)\n",
    "        company_id = random.choice(company_list)\n",
    "        group_id = random.choice(group_list)\n",
    "        create_time = str(cassandra.util.uuid_from_time(datetime.datetime.now()))\n",
    "        bid = random.randint(0,1)\n",
    "        custom_track = 'clicks'\n",
    "        publisher_id = random.choice(publisher)\n",
    "        ts = str(datetime.datetime.now().strftime('%Y-%m-%d %H:%M:%S'))\n",
    "        sql = \"\"\" INSERT INTO tracking(create_time,bid,campaign_id,custom_track,group_id,job_id,publisher_id,ts) VALUES ('{}',{},{},'{}',{},{},{},'{}')\"\"\".format(create_time,bid,campaign_id,custom_track,group_id,job_id,publisher_id,ts)\n",
    "        session.execute(sql)\n",
    "        print('------------------------')\n",
    "        print(sql)\n",
    "        print('------------------------')\n",
    "        i+=1 \n",
    "    return print('Data Generated Successfully')"
   ]
  },
  {
   "cell_type": "code",
   "execution_count": 7,
   "metadata": {},
   "outputs": [],
   "source": [
    "host = 'localhost'\n",
    "port = '3306'\n",
    "db_name = 'Data_Warehouse'\n",
    "user = 'root'\n",
    "password = '1'\n",
    "url = 'jdbc:mysql://' + host + ':' + port + '/' + db_name\n",
    "driver = \"com.mysql.cj.jdbc.Driver\""
   ]
  },
  {
   "cell_type": "code",
   "execution_count": 8,
   "metadata": {},
   "outputs": [],
   "source": [
    "keyspace = 'keyspace_de'\n",
    "cassandra_login = 'cassandra'\n",
    "cassandra_password = 'cassandra'\n",
    "cluster = Cluster()\n",
    "session = cluster.connect(keyspace)"
   ]
  },
  {
   "cell_type": "code",
   "execution_count": 11,
   "metadata": {
    "scrolled": false
   },
   "outputs": [
    {
     "name": "stderr",
     "output_type": "stream",
     "text": [
      "D:\\Application\\Anaconda3\\lib\\site-packages\\pandas\\io\\sql.py:761: UserWarning: pandas only support SQLAlchemy connectable(engine/connection) ordatabase string URI or sqlite3 DBAPI2 connectionother DBAPI2 objects are not tested, please consider using SQLAlchemy\n",
      "  warnings.warn(\n",
      "D:\\Application\\Anaconda3\\lib\\site-packages\\pandas\\io\\sql.py:761: UserWarning: pandas only support SQLAlchemy connectable(engine/connection) ordatabase string URI or sqlite3 DBAPI2 connectionother DBAPI2 objects are not tested, please consider using SQLAlchemy\n",
      "  warnings.warn(\n"
     ]
    },
    {
     "name": "stdout",
     "output_type": "stream",
     "text": [
      "------------------------\n",
      " INSERT INTO tracking(create_time,bid,campaign_id,custom_track,group_id,job_id,publisher_id,ts) VALUES ('d042fa56-65d3-11ed-8b1c-314c7456a97e',0,53,'clicks',41,1682,30,'2022-11-16 17:26:32')\n",
      "------------------------\n",
      "------------------------\n",
      " INSERT INTO tracking(create_time,bid,campaign_id,custom_track,group_id,job_id,publisher_id,ts) VALUES ('d044dc9a-65d3-11ed-92b8-7738ac08a72d',1,193,'clicks',32,627,32,'2022-11-16 17:26:32')\n",
      "------------------------\n",
      "------------------------\n",
      " INSERT INTO tracking(create_time,bid,campaign_id,custom_track,group_id,job_id,publisher_id,ts) VALUES ('d0475290-65d3-11ed-90ff-9f8a35399dea',0,1,'clicks',10,985,10,'2022-11-16 17:26:32')\n",
      "------------------------\n",
      "------------------------\n",
      " INSERT INTO tracking(create_time,bid,campaign_id,custom_track,group_id,job_id,publisher_id,ts) VALUES ('d0495950-65d3-11ed-b0ff-21d5a091916b',0,4,'clicks',10,1773,27,'2022-11-16 17:26:32')\n",
      "------------------------\n",
      "------------------------\n",
      " INSERT INTO tracking(create_time,bid,campaign_id,custom_track,group_id,job_id,publisher_id,ts) VALUES ('d04bf930-65d3-11ed-becf-e03156e58ecd',1,57,'clicks',10,366,36,'2022-11-16 17:26:32')\n",
      "------------------------\n",
      "------------------------\n",
      " INSERT INTO tracking(create_time,bid,campaign_id,custom_track,group_id,job_id,publisher_id,ts) VALUES ('d04e197c-65d3-11ed-bf41-da160e983894',0,9,'clicks',41,2049,37,'2022-11-16 17:26:32')\n",
      "------------------------\n",
      "Data Generated Successfully\n"
     ]
    },
    {
     "name": "stderr",
     "output_type": "stream",
     "text": [
      "D:\\Application\\Anaconda3\\lib\\site-packages\\pandas\\io\\sql.py:761: UserWarning: pandas only support SQLAlchemy connectable(engine/connection) ordatabase string URI or sqlite3 DBAPI2 connectionother DBAPI2 objects are not tested, please consider using SQLAlchemy\n",
      "  warnings.warn(\n",
      "D:\\Application\\Anaconda3\\lib\\site-packages\\pandas\\io\\sql.py:761: UserWarning: pandas only support SQLAlchemy connectable(engine/connection) ordatabase string URI or sqlite3 DBAPI2 connectionother DBAPI2 objects are not tested, please consider using SQLAlchemy\n",
      "  warnings.warn(\n"
     ]
    },
    {
     "name": "stdout",
     "output_type": "stream",
     "text": [
      "------------------------\n",
      " INSERT INTO tracking(create_time,bid,campaign_id,custom_track,group_id,job_id,publisher_id,ts) VALUES ('d681a4f8-65d3-11ed-87ff-4004ec8fcfd3',1,5,'clicks',14,420,23,'2022-11-16 17:26:42')\n",
      "------------------------\n",
      "------------------------\n",
      " INSERT INTO tracking(create_time,bid,campaign_id,custom_track,group_id,job_id,publisher_id,ts) VALUES ('d6832fd0-65d3-11ed-9199-843368636bcc',1,55,'clicks',26,447,33,'2022-11-16 17:26:42')\n",
      "------------------------\n",
      "Data Generated Successfully\n"
     ]
    },
    {
     "ename": "KeyboardInterrupt",
     "evalue": "",
     "output_type": "error",
     "traceback": [
      "\u001b[1;31m---------------------------------------------------------------------------\u001b[0m",
      "\u001b[1;31mKeyboardInterrupt\u001b[0m                         Traceback (most recent call last)",
      "Input \u001b[1;32mIn [11]\u001b[0m, in \u001b[0;36m<cell line: 1>\u001b[1;34m()\u001b[0m\n\u001b[0;32m      1\u001b[0m \u001b[38;5;28;01mwhile\u001b[39;00m \u001b[38;5;241m1\u001b[39m \u001b[38;5;241m==\u001b[39m \u001b[38;5;241m1\u001b[39m:\n\u001b[0;32m      2\u001b[0m     generating_dummy_data(n_records \u001b[38;5;241m=\u001b[39m random\u001b[38;5;241m.\u001b[39mrandrange(\u001b[38;5;241m1\u001b[39m,\u001b[38;5;241m50\u001b[39m) ,session \u001b[38;5;241m=\u001b[39m session,user \u001b[38;5;241m=\u001b[39m user,password \u001b[38;5;241m=\u001b[39m password ,host \u001b[38;5;241m=\u001b[39m host,database \u001b[38;5;241m=\u001b[39m db_name)\n\u001b[1;32m----> 3\u001b[0m     \u001b[43mtime\u001b[49m\u001b[38;5;241;43m.\u001b[39;49m\u001b[43msleep\u001b[49m\u001b[43m(\u001b[49m\u001b[38;5;241;43m10\u001b[39;49m\u001b[43m)\u001b[49m\n",
      "\u001b[1;31mKeyboardInterrupt\u001b[0m: "
     ]
    }
   ],
   "source": [
    "while 1 == 1:\n",
    "    generating_dummy_data(n_records = random.randrange(1,50) ,session = session,user = user,password = password ,host = host,database = db_name)\n",
    "    time.sleep(10)"
   ]
  },
  {
   "cell_type": "code",
   "execution_count": null,
   "metadata": {},
   "outputs": [],
   "source": []
  }
 ],
 "metadata": {
  "kernelspec": {
   "display_name": "Python 3 (ipykernel)",
   "language": "python",
   "name": "python3"
  },
  "language_info": {
   "codemirror_mode": {
    "name": "ipython",
    "version": 3
   },
   "file_extension": ".py",
   "mimetype": "text/x-python",
   "name": "python",
   "nbconvert_exporter": "python",
   "pygments_lexer": "ipython3",
   "version": "3.9.12"
  }
 },
 "nbformat": 4,
 "nbformat_minor": 4
}
